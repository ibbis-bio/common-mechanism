{
 "cells": [
  {
   "cell_type": "code",
   "execution_count": null,
   "id": "88c2c719-d624-45dc-a10a-2f2dafad99e3",
   "metadata": {},
   "outputs": [],
   "source": [
    "################# benign database ######################"
   ]
  },
  {
   "cell_type": "code",
   "execution_count": 30,
   "id": "4eae6a4f-c5a1-423a-9219-1fd7506c5380",
   "metadata": {},
   "outputs": [],
   "source": [
    "import pandas as pd\n",
    "import numpy as np\n",
    "import matplotlib.pyplot as plt\n",
    "import os\n"
   ]
  },
  {
   "cell_type": "code",
   "execution_count": 55,
   "id": "83b1ac2b-0054-4357-ba6c-23788fa2d972",
   "metadata": {},
   "outputs": [
    {
     "data": {
      "image/png": "[encoded data removed]",
      "text/plain": [
       "<Figure size 720x432 with 1 Axes>"
      ]
     },
     "metadata": {
      "needs_background": "light"
     },
     "output_type": "display_data"
    }
   ],
   "source": [
    "# Frequent COG terms\n",
    "\n",
    "cog_freq = pd.read_csv(\"databases/benign/common_STRING/STRING_COG_frequencies\", header=None, sep=r\"\\s+\")\n",
    "cog_freq.head()\n",
    "\n",
    "plt.figure(figsize=[10,6])\n",
    "# n, bins, patches = plt.hist(x=cog_freq[0], bins=50, color='#0504aa',alpha=0.7, rwidth=0.85, range=(0, 1000))\n",
    "n, bins, patches = plt.hist(x=cog_freq[0], bins=50, color='#0504aa',alpha=0.7, rwidth=0.85)\n",
    "plt.grid(axis='y', alpha=0.75)\n",
    "plt.xlabel('Value',fontsize=15)\n",
    "plt.ylabel('Frequency',fontsize=15)\n",
    "plt.show()\n",
    "\n",
    "common_genes = cog_freq[1][cog_freq[0]>1000]\n",
    "common_genes.to_csv('databases/benign/common_genes.models', header=None, index=False)\n",
    "# print(len(common_genes))\n",
    "\n",
    "# for i in common_genes:\n",
    "#     os.system(\"cat databases/benign/2/\" + i + \".hmm.gz >> databases/benign/common_STRING.hmm\")    \n",
    "#     os.system(\"grep \" + i + \" databases/benign/2_annotations.tsv >> databases/benign/common_STRING_annotations.tsv\")"
   ]
  },
  {
   "cell_type": "code",
   "execution_count": null,
   "id": "e71b812e-536d-4a78-bfca-62028348cc3c",
   "metadata": {},
   "outputs": [],
   "source": [
    "# BiGG E. coli core genome model\n",
    "\n",
    "import json\n",
    "import urllib.request  as urllib2 \n",
    "url = \"http://bigg.ucsd.edu/api/v2/models/e_coli_core/genes/\"\n",
    "response = urllib2.urlopen(url)\n",
    "data = response.read()\n",
    "values = json.loads(data)\n",
    "\n",
    "file = open('/Users/wheelern/Dropbox/NTI/binf/databases/benign/BiGG_e_coli_core_prot.fasta', \"w\")\n",
    "for i in values['results']:\n",
    "    gene = json.loads(urllib2.urlopen(\"http://bigg.ucsd.edu/api/v2/models/e_coli_core/genes/\" + i['bigg_id']).read())\n",
    "    # could fetch a Uniprot description here\n",
    "    if not gene['protein_sequence'] == None:\n",
    "#     print(gene['name'], gene['protein_sequence'], gene['reactions'][0]['name'])\n",
    "        file.write(\">\" + gene['name'] + \" \" + gene['reactions'][0]['name'] + \"\\n\" + gene['protein_sequence'] + \"\\n\")\n",
    "#     print(gene)\n",
    "#     file.write(\">\" + gene['name'] + \"\\n\" + gene['protein_sequence'] + \"\\n\")\n",
    "file.close()"
   ]
  },
  {
   "cell_type": "code",
   "execution_count": 54,
   "id": "da9f72f1-95b5-42b1-afc2-d874671902f3",
   "metadata": {},
   "outputs": [
    {
     "name": "stdout",
     "output_type": "stream",
     "text": [
      "(4731, 23)\n",
      "(136, 23)\n"
     ]
    },
    {
     "name": "stderr",
     "output_type": "stream",
     "text": [
      "<ipython-input-54-d7e7459f136d>:12: FutureWarning: The default value of regex will change from True to False in a future version.\n",
      "  models = models.str.replace('.faa.final_tree.fa', '')\n",
      "<ipython-input-54-d7e7459f136d>:13: FutureWarning: The default value of regex will change from True to False in a future version.\n",
      "  models = models.str.replace('.faa.final_tree', '')\n"
     ]
    }
   ],
   "source": [
    "# filtering BiGG hits\n",
    "\n",
    "search = pd.read_csv('databases/benign/BiGG_EggNOG.parse', sep=\"\\t\", header=None)\n",
    "print(search.shape)\n",
    "search = search.drop_duplicates(subset=0)\n",
    "print(search.shape)\n",
    "\n",
    "# print(search.head())\n",
    "# print(search.columns)\n",
    "\n",
    "models = search[3]\n",
    "models = models.str.replace('.faa.final_tree.fa', '')\n",
    "models = models.str.replace('.faa.final_tree', '')\n",
    "\n",
    "models.to_csv('databases/benign/BiGG_EggNOG.models', header=None, index=False)\n"
   ]
  },
  {
   "cell_type": "code",
   "execution_count": null,
   "id": "b1516642-5ce7-406f-a59a-0fbd21fb881e",
   "metadata": {},
   "outputs": [],
   "source": []
  },
  {
   "cell_type": "code",
   "execution_count": null,
   "id": "e4b8d47b-58eb-4e5c-97b2-869ea6004499",
   "metadata": {},
   "outputs": [],
   "source": []
  }
 ],
 "metadata": {
  "kernelspec": {
   "display_name": "Python 3",
   "language": "python",
   "name": "python3"
  },
  "language_info": {
   "codemirror_mode": {
    "name": "ipython",
    "version": 3
   },
   "file_extension": ".py",
   "mimetype": "text/x-python",
   "name": "python",
   "nbconvert_exporter": "python",
   "pygments_lexer": "ipython3",
   "version": "3.9.5"
  }
 },
 "nbformat": 4,
 "nbformat_minor": 5
}
