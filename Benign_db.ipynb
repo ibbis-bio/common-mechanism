{
 "cells": [
  {
   "cell_type": "code",
   "execution_count": null,
   "id": "88c2c719-d624-45dc-a10a-2f2dafad99e3",
   "metadata": {},
   "outputs": [],
   "source": [
    "################# benign database ######################"
   ]
  },
  {
   "cell_type": "code",
   "execution_count": null,
   "id": "83b1ac2b-0054-4357-ba6c-23788fa2d972",
   "metadata": {},
   "outputs": [],
   "source": [
    "# Frequent COG terms\n",
    "\n",
    "cog_freq = pd.read_csv(\"databases/benign/common_STRING/STRING_COG_frequencies\", header=None, sep=r\"\\s+\")\n",
    "cog_freq.head()\n",
    "\n",
    "plt.figure(figsize=[10,6])\n",
    "# n, bins, patches = plt.hist(x=cog_freq[0], bins=50, color='#0504aa',alpha=0.7, rwidth=0.85, range=(0, 1000))\n",
    "n, bins, patches = plt.hist(x=cog_freq[0], bins=50, color='#0504aa',alpha=0.7, rwidth=0.85)\n",
    "plt.grid(axis='y', alpha=0.75)\n",
    "plt.xlabel('Value',fontsize=15)\n",
    "plt.ylabel('Frequency',fontsize=15)\n",
    "plt.show()\n",
    "\n",
    "common_genes = cog_freq[1][cog_freq[0]>1000]\n",
    "print(len(common_genes))\n",
    "\n",
    "for i in common_genes:\n",
    "    os.system(\"cat databases/benign/2/\" + i + \".hmm.gz >> databases/benign/common_STRING.hmm\")    \n",
    "    os.system(\"grep \" + i + \" databases/benign/2_annotations.tsv >> databases/benign/common_STRING_annotations.tsv\")"
   ]
  },
  {
   "cell_type": "code",
   "execution_count": null,
   "id": "e71b812e-536d-4a78-bfca-62028348cc3c",
   "metadata": {},
   "outputs": [],
   "source": [
    "# BiGG E. coli core genome model\n",
    "\n",
    "import json\n",
    "import urllib.request  as urllib2 \n",
    "url = \"http://bigg.ucsd.edu/api/v2/models/e_coli_core/genes/\"\n",
    "response = urllib2.urlopen(url)\n",
    "data = response.read()\n",
    "values = json.loads(data)\n",
    "\n",
    "file = open('/Users/wheelern/Dropbox/NTI/binf/databases/benign/BiGG_e_coli_core_prot.fasta', \"w\")\n",
    "for i in values['results']:\n",
    "    gene = json.loads(urllib2.urlopen(\"http://bigg.ucsd.edu/api/v2/models/e_coli_core/genes/\" + i['bigg_id']).read())\n",
    "    # could fetch a Uniprot description here\n",
    "    if not gene['protein_sequence'] == None:\n",
    "#     print(gene['name'], gene['protein_sequence'], gene['reactions'][0]['name'])\n",
    "        file.write(\">\" + gene['name'] + \" \" + gene['reactions'][0]['name'] + \"\\n\" + gene['protein_sequence'] + \"\\n\")\n",
    "#     print(gene)\n",
    "#     file.write(\">\" + gene['name'] + \"\\n\" + gene['protein_sequence'] + \"\\n\")\n",
    "file.close()"
   ]
  },
  {
   "cell_type": "code",
   "execution_count": null,
   "id": "b1516642-5ce7-406f-a59a-0fbd21fb881e",
   "metadata": {},
   "outputs": [],
   "source": [
    "# freegenes Genbank to FASTA - generates a lot of warnings\n",
    "\n",
    "# from Bio import SeqIO\n",
    "# from Bio import SeqUtils\n",
    "# from Bio import Seq\n",
    "# import glob\n",
    "# gbks = glob.glob(\"databases/benign/freegenes.github.io/genbank/*.gb_fixed\")\n",
    "\n",
    "# records = ()\n",
    "\n",
    "# for i in gbks:\n",
    "#     gbk_filename = i\n",
    "#     faa_filename = i.replace(\"genbank\", \"fasta\").replace(\".gb_fixed\", \".fasta\")\n",
    "#     input_handle  = open(gbk_filename, \"r\")\n",
    "#     output_handle = open(faa_filename, \"w\")\n",
    "    \n",
    "#     for seq_record in SeqIO.parse(input_handle, \"gb\"):\n",
    "#         output_handle.write(\">%s %s\\n%s\\n\" % (\n",
    "#            i.replace(\"databases/benign/freegenes.github.io/genbank/\", \"\").replace(\".gb_fixed\", \"\"),\n",
    "#            seq_record.description,\n",
    "#            seq_record.seq))\n",
    "    \n",
    "#     output_handle.close()\n",
    "#     input_handle.close()"
   ]
  },
  {
   "cell_type": "code",
   "execution_count": null,
   "id": "e4b8d47b-58eb-4e5c-97b2-869ea6004499",
   "metadata": {},
   "outputs": [],
   "source": []
  }
 ],
 "metadata": {
  "kernelspec": {
   "display_name": "Python 3",
   "language": "python",
   "name": "python3"
  },
  "language_info": {
   "codemirror_mode": {
    "name": "ipython",
    "version": 3
   },
   "file_extension": ".py",
   "mimetype": "text/x-python",
   "name": "python",
   "nbconvert_exporter": "python",
   "pygments_lexer": "ipython3",
   "version": "3.9.5"
  }
 },
 "nbformat": 4,
 "nbformat_minor": 5
}
