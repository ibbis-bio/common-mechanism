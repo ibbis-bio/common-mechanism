{
 "cells": [
  {
   "cell_type": "code",
   "execution_count": null,
   "id": "223ea615-fa00-4453-83ca-0782ad91fb69",
   "metadata": {},
   "outputs": [],
   "source": [
    "#################### biorisk database #######################"
   ]
  },
  {
   "cell_type": "code",
   "execution_count": null,
   "id": "80ee9f6a-9199-45a0-92e3-935f50da14f5",
   "metadata": {},
   "outputs": [],
   "source": [
    "import os\n",
    "import pandas as pd\n",
    "import numpy as np"
   ]
  },
  {
   "cell_type": "code",
   "execution_count": null,
   "id": "6ce03788-8c47-4a39-8789-4147724b30e6",
   "metadata": {},
   "outputs": [],
   "source": [
    "# !pip freeze > requirements.lock.txt"
   ]
  },
  {
   "cell_type": "code",
   "execution_count": null,
   "id": "1adf62d6-119e-4260-98ce-c8d5aaad8339",
   "metadata": {},
   "outputs": [],
   "source": [
    "reg_names = pd.read_csv('databases/biorisk/reg_names', index_col=None)\n",
    "reg_names = reg_names['0'].tolist()"
   ]
  },
  {
   "cell_type": "code",
   "execution_count": null,
   "id": "b09f4979-939c-4d7e-b62f-edbb8876f85a",
   "metadata": {},
   "outputs": [],
   "source": [
    "# filter FASTA files\n",
    "\n",
    "from Bio import SeqIO\n",
    "import re\n",
    "\n",
    "reg_names_covered = []\n",
    "\n",
    "def sequence_fetcher(file_prefix, reg_names):\n",
    "    input_file = \"databases/biorisk/\" + file_prefix + \".fasta\"\n",
    "    output_file = \"databases/biorisk/\" + file_prefix + \"_reg_filt.fasta\"\n",
    "    output_plus_file = \"databases/biorisk/\" + file_prefix + \"_nonreg_filt.fasta\"\n",
    "    fasta = SeqIO.parse(input_file, \"fasta\")\n",
    "    records = ()\n",
    "    records_plus = ()\n",
    "    for r in fasta:\n",
    "        regulated = 0\n",
    "        for tax in reg_names:\n",
    "            if bool(re.search(tax, r.description)):\n",
    "#                print(\"Yes \", tax)\n",
    "                if regulated == 0:\n",
    "                    records = records + (r,)\n",
    "                    reg_names_covered.append(tax)\n",
    "                    regulated = 1\n",
    "        if regulated == 0:\n",
    "            records_plus = records_plus + (r,)\n",
    "    SeqIO.write(records, output_file, \"fasta\")\n",
    "    SeqIO.write(records_plus, output_plus_file, \"fasta\")\n",
    "\n",
    "\n",
    "sequence_fetcher(\"victors_prot\", reg_names)\n",
    "sequence_fetcher(\"victors_nt\", reg_names)\n",
    "\n",
    "sequence_fetcher(\"VFDB_setA_pro\", reg_names)\n",
    "sequence_fetcher(\"VFDB_setA_nt\", reg_names)\n",
    "\n",
    "sequence_fetcher(\"VFDB_setB_pro\", reg_names)\n",
    "sequence_fetcher(\"VFDB_setB_nt\", reg_names)\n",
    "\n",
    "sequence_fetcher(\"blacklist_nt_dedupe\", reg_names)\n"
   ]
  },
  {
   "cell_type": "code",
   "execution_count": null,
   "id": "11a73485-cf24-47e4-adf5-c00c3b884c2b",
   "metadata": {},
   "outputs": [],
   "source": [
    "# process IGSC list\n",
    "\n",
    "reg_seqs_aus = pd.read_excel(\"/Users/wheelern/Documents/IGSC_seqs/20160919_GI.xlsx\", sheet_name=0)\n",
    "reg_seqs_eu = pd.read_excel(\"/Users/wheelern/Documents/IGSC_seqs/20160919_GI.xlsx\", sheet_name=1)\n",
    "reg_seqs_cdc = pd.read_excel(\"/Users/wheelern/Documents/IGSC_seqs/20160919_GI.xlsx\", sheet_name=2)\n",
    "reg_seqs_usccl = pd.read_excel(\"/Users/wheelern/Documents/IGSC_seqs/20160919_GI.xlsx\", sheet_name=3)\n",
    "reg_seqs_usitar = pd.read_excel(\"/Users/wheelern/Documents/IGSC_seqs/20160919_GI.xlsx\", sheet_name=4)\n",
    "\n",
    "output_file = \"/Users/wheelern/Documents/IGSC_seqs/reg_seqs.fasta\"\n",
    "if os.path.exists(output_file):\n",
    "    os.remove(output_file)\n",
    "\n",
    "f = open(output_file, \"a\")\n",
    "\n",
    "def print_seqs(df):\n",
    "    for i in range(0, reg_seqs_aus.shape[0]):\n",
    "        reg_names_covered.append(reg_seqs_aus.loc[i,\"Organism\"])\n",
    "        f.write(\">\" + str(reg_seqs_aus.loc[i,\"GI\"]) + \"_\" + reg_seqs_aus.loc[i,\"Description\"] + \"\\n\" + reg_seqs_aus.loc[i,\"Sequence\"] + \"\\n\")\n",
    "\n",
    "print_seqs(reg_seqs_aus)\n",
    "print_seqs(reg_seqs_eu)\n",
    "print_seqs(reg_seqs_cdc)\n",
    "print_seqs(reg_seqs_usccl)\n",
    "print_seqs(reg_seqs_usitar)\n",
    "\n",
    "f.close()"
   ]
  },
  {
   "cell_type": "code",
   "execution_count": null,
   "id": "96dea105-37d8-496e-ab4f-341512a28d95",
   "metadata": {},
   "outputs": [],
   "source": [
    "# process SeqScreen Blacklist database\n",
    "\n",
    "from interface.utils import *\n",
    "\n",
    "for i in range(0, blast.shape[0]):\n",
    "    hit = 0\n",
    "    for tax in reg_names:\n",
    "        if bool(re.search(tax, blast.loc[i,'subject title'])):\n",
    "#             print(tax)\n",
    "            reg_names_covered.append(tax)\n",
    "            hit = 1\n",
    "    if hit == 0:\n",
    "        print(blast.loc[i,'subject title'])\n",
    "\n",
    "# print(blast_trim.head())\n",
    "# blast_trim['% identity'].hist(bins=50)"
   ]
  },
  {
   "cell_type": "code",
   "execution_count": 16,
   "id": "eb0ee191-4429-46a4-a503-605bebb8bd71",
   "metadata": {},
   "outputs": [
    {
     "name": "stdout",
     "output_type": "stream",
     "text": [
      "KY697335.1    26201\n",
      "AY504619.1     5949\n",
      "HM014333.2     3480\n",
      "CY073798.1     3216\n",
      "CY069638.1     3182\n",
      "              ...  \n",
      "CO020430.1        1\n",
      "CO020494.1        1\n",
      "CO020622.1        1\n",
      "CO020942.1        1\n",
      "GH433083.1        1\n",
      "Name: 0, Length: 51599, dtype: int64\n"
     ]
    },
    {
     "data": {
      "image/png": "[encoded data removed]",
      "text/plain": [
       "<Figure size 432x288 with 1 Axes>"
      ]
     },
     "metadata": {
      "needs_background": "light"
     },
     "output_type": "display_data"
    }
   ],
   "source": [
    "# understanding mmseq clustering \n",
    "import matplotlib.pyplot as plt\n",
    "\n",
    "clusts = pd.read_csv(\"/Users/wheelern/Documents/IGSC_seqs/biorisk_nt_clust.tsv\", sep=\"\\t\", header=None)\n",
    "freqs = clusts[0].value_counts()\n",
    "\n",
    "fig, ax = plt.subplots()\n",
    "freqs.hist(ax=ax, bins=100, bottom=0.1)\n",
    "ax.set_yscale('log')\n",
    "ax.set_xlabel(\"Number of members in cluster\")\n",
    "\n",
    "print(freqs)"
   ]
  },
  {
   "cell_type": "code",
   "execution_count": null,
   "id": "d12a9a43-3160-421b-b134-2aa17085ff28",
   "metadata": {},
   "outputs": [],
   "source": [
    "# species coverage in the biorisk database\n",
    "print(pd.Series(reg_names_covered).value_counts()[0:30])\n",
    "\n",
    "# species not covered by the biorisk database\n",
    "print('\\n\\nSpecies missed')\n",
    "# for i in set(reg_names):\n",
    "#     if i not in reg_names_covered:\n",
    "#         print(i) "
   ]
  },
  {
   "cell_type": "code",
   "execution_count": null,
   "id": "5a4b4951-cb0a-495d-8523-6656fdded186",
   "metadata": {},
   "outputs": [],
   "source": [
    "# look at mapping of biorisk DB to TIGRFAMS (bad)\n",
    "\n",
    "from Bio import SeqIO\n",
    "import re\n",
    "import pandas as pd \n",
    "\n",
    "hmmsearch = pd.read_csv('/Users/wheelern/Documents/IGSC_seqs/tigrfamsscan.search.parse', sep=\"\\t\", header=None)\n",
    "queries_covered = hmmsearch[0]\n",
    "queries_missed = []\n",
    "\n",
    "input_file = \"/Users/wheelern/Documents/IGSC_seqs/reg_seqs.fasta\"\n",
    "fasta = SeqIO.parse(input_file, \"fasta\")\n",
    "for r in fasta:\n",
    "    if r.id not in queries_covered:\n",
    "        queries_missed.append(r.id)\n",
    "#         regulated = 0\n",
    "#         for tax in reg_names:\n",
    "#             if bool(re.search(tax, r.description)):\n",
    "# #                print(\"Yes \", tax)\n",
    "#                 if regulated == 0:\n",
    "#                     records = records + (r,)\n",
    "#                     reg_names_covered.append(tax)\n",
    "#                     regulated = 1\n",
    "#         if regulated == 0:\n",
    "#             records_plus = records_plus + (r,)\n",
    "#     SeqIO.write(records, output_file, \"fasta\")\n",
    "#     SeqIO.write(records_plus, output_plus_file, \"fasta\")\n",
    "\n",
    "print(len(queries_missed))\n",
    "print(len(queries_covered))"
   ]
  },
  {
   "cell_type": "code",
   "execution_count": null,
   "id": "30a75a19-a179-445f-9293-6f47426ce20e",
   "metadata": {},
   "outputs": [],
   "source": [
    "queries_covered"
   ]
  },
  {
   "cell_type": "code",
   "execution_count": null,
   "id": "9a9a913b-6b95-416d-9fed-81bd206f5a26",
   "metadata": {},
   "outputs": [],
   "source": [
    "# mash comparison of biorisks\n",
    "\n",
    "# this is from the following tutorial: https://sourmash.readthedocs.io/en/latest/kmers-and-minhash.html\n",
    "\n",
    "def jaccard_similarity(a, b):\n",
    "    a = set(a)\n",
    "    b = set(b)\n",
    "\n",
    "    intersection = len(a.intersection(b))\n",
    "    union = len(a.union(b))\n",
    "\n",
    "    return intersection / union\n",
    "\n",
    "def jaccard_containment(a, b):\n",
    "    a = set(a)\n",
    "    b = set(b)\n",
    "\n",
    "    intersection = len(a.intersection(b))\n",
    "\n",
    "    return intersection / len(a)\n",
    "\n",
    "def build_kmers(sequence, ksize):\n",
    "    kmers = []\n",
    "    n_kmers = len(sequence) - ksize + 1\n",
    "\n",
    "    for i in range(n_kmers):\n",
    "        kmer = sequence[i:i + ksize]\n",
    "        kmers.append(kmer)\n",
    "\n",
    "    return kmers"
   ]
  },
  {
   "cell_type": "code",
   "execution_count": null,
   "id": "065aedc6-6687-497b-9693-9a947759a193",
   "metadata": {},
   "outputs": [],
   "source": [
    "import screed # a library for reading in FASTA/FASTQ\n",
    "\n",
    "def read_kmers_from_file(filename, ksize):\n",
    "    all_kmers = []\n",
    "    for record in screed.open(filename):\n",
    "        sequence = record.sequence\n",
    "\n",
    "        kmers = build_kmers(sequence, ksize)\n",
    "        all_kmers += kmers\n",
    "\n",
    "    return all_kmers\n",
    "\n",
    "reg_kmers = read_kmers_from_file(\"/Users/wheelern/Documents/IGSC_seqs/reg_seqs_dedupe.fasta\", 31)\n"
   ]
  },
  {
   "cell_type": "code",
   "execution_count": null,
   "id": "a3a27778-0f15-4253-9995-478da150043a",
   "metadata": {},
   "outputs": [],
   "source": [
    "from Bio import SeqIO\n",
    "regseqs = SeqIO.parse(\"/Users/wheelern/Documents/IGSC_seqs/reg_seqs_dedupe.fasta\", \"fasta\")\n",
    "\n",
    "kmerslist = []\n",
    "seqnames = []\n",
    "\n",
    "for seq in regseqs.records:\n",
    "    kmerslist.append(build_kmers(seq.seq, 31))\n",
    "    seqnames.append(seq.id)\n",
    "    "
   ]
  },
  {
   "cell_type": "code",
   "execution_count": 46,
   "id": "4ea7979c-6642-4bb9-bf38-530cb0749d15",
   "metadata": {},
   "outputs": [],
   "source": [
    "fasta = pd.read_csv(\"/Users/wheelern/Documents/IGSC_seqs/reg_seqs_dedupe.fasta\", sep=\"\\t\", header=None)\n",
    "indices = []\n",
    "count = 0\n",
    "\n",
    "for line in range(fasta.shape[0]):\n",
    "    if re.search(\">\", fasta[0][line]):\n",
    "        name = re.sub(\">\", \"\", fasta[0][line])\n",
    "        indices.append(name)\n"
   ]
  },
  {
   "cell_type": "code",
   "execution_count": 101,
   "id": "9c37b715-519d-4f5d-af4d-f670d4fb61e3",
   "metadata": {},
   "outputs": [],
   "source": [
    "import pandas as pd\n",
    "import re\n",
    "from collections import defaultdict\n",
    "\n",
    "reference = \"\"\n",
    "dist_dic = defaultdict(list)\n",
    "index_dic = defaultdict(list)\n",
    "count = 0\n",
    "\n",
    "dists = pd.read_csv(\"/Users/wheelern/Documents/IGSC_sequences/biorisk_cobs_dist\", sep=\"\\t\", header=None)\n",
    "for line in range(dists.shape[0]):\n",
    "    if re.search(\"\\*\", dists[0][line]):\n",
    "        reference = dists[0][line]\n",
    "        index_dic[re.sub(\"\\*\", \"\", reference)] = count\n",
    "        count+=1    \n",
    "    else:\n",
    "        seq_index = int(re.sub(\"reg_seqs_dedupe_\", \"\", dists[0][line]))\n",
    "        seq_name = indices[seq_index]\n",
    "        dist_dic[reference].append([seq_name, dists[1][line]])\n",
    "\n"
   ]
  },
  {
   "cell_type": "code",
   "execution_count": 95,
   "id": "243b947a-91bc-4fb3-ad5b-8c95dae82cf4",
   "metadata": {},
   "outputs": [
    {
     "data": {
      "text/plain": [
       "[['1617008_abrin A chain (E164A), partial [Abrus precatorius]', 221, 1.0],\n",
       " ['1617006_abrin A chain E164A/R167L, partial [Abrus precatorius]', 200, 0.9],\n",
       " ['16091_ricin A-chain type 73, partial [Abrus precatorius]', 199, 0.9],\n",
       " ['999849_A Chain A, Crystal Structure Of Abrin-A', 199, 0.9],\n",
       " ['1617004_abrin A-chain, partial [Abrus precatorius]', 199, 0.9],\n",
       " ['166295_abrin-a, partial [Abrus precatorius]', 197, 0.89],\n",
       " ['543748_ABRA_ABRPR RecName: Full=Abrin-a; Contains: RecName: Full=Abrin-a A chain; AltName: Full=rRNA N-glycosidase; Contains: RecName: Full=Linker peptide; Contains: RecName: Full=Abrin-a B chain; Flags: Precursor',\n",
       "  196,\n",
       "  0.89],\n",
       " ['226012_1406189A abrin a A', 177, 0.8]]"
      ]
     },
     "execution_count": 95,
     "metadata": {},
     "output_type": "execute_result"
    }
   ],
   "source": [
    "dist_dic['*1617008_abrin']"
   ]
  },
  {
   "cell_type": "code",
   "execution_count": 79,
   "id": "11911c60-e05d-4f17-98b5-6204ad60a65f",
   "metadata": {},
   "outputs": [
    {
     "data": {
      "text/plain": [
       "Text(0.5, 0, 'Number of members in cluster')"
      ]
     },
     "execution_count": 79,
     "metadata": {},
     "output_type": "execute_result"
    },
    {
     "data": {
      "image/png": "[encoded data removed]",
      "text/plain": [
       "<Figure size 432x288 with 1 Axes>"
      ]
     },
     "metadata": {},
     "output_type": "display_data"
    }
   ],
   "source": [
    "# cobs cluster size distribution\n",
    "import matplotlib.pyplot as plt\n",
    "\n",
    "c_sizes = []\n",
    "\n",
    "for i in dist_dic.keys():\n",
    "    c_sizes.append(len(dist_dic[i]))\n",
    "\n",
    "fig, ax = plt.subplots()\n",
    "pd.DataFrame(c_sizes).hist(ax=ax, bins=100, bottom=0.1)\n",
    "ax.set_yscale('log')\n",
    "ax.set_xlabel(\"Number of members in cluster\")\n"
   ]
  },
  {
   "cell_type": "code",
   "execution_count": 109,
   "id": "b267472a-48b1-4958-b02f-943bbe1cc10a",
   "metadata": {},
   "outputs": [],
   "source": [
    "# COBS PID reporting\n",
    "# could compare PIDs from mmseqs-2 and COBS - just compare some matching keys. Use of different index sequences will make this harder\n",
    "\n",
    "for key in dist_dic.keys():\n",
    "    ref_kmers = 0\n",
    "    for entry in dist_dic[key]:\n",
    "        if re.sub(\" .*\", \"\", entry[0]) == re.sub(\"\\*\", \"\", key):\n",
    "            ref_kmers = entry[1]\n",
    "    for entry in dist_dic[key]:\n",
    "        entry.append(round(entry[1]/ref_kmers, 2))\n"
   ]
  },
  {
   "cell_type": "code",
   "execution_count": 122,
   "id": "a694a54a-8a91-4bc5-8af3-5c4787acc532",
   "metadata": {},
   "outputs": [],
   "source": [
    "import numpy as np\n",
    "from scipy.sparse import dok_matrix\n",
    "\n",
    "M = dok_matrix((len(indices), len(indices)))\n",
    "\n",
    "for key in dist_dic.keys():\n",
    "    for entry in dist_dic[key]:\n",
    "        M[index_dic[re.sub(\"\\*\", \"\", key)], index_dic[re.sub(\" .*\", \"\", entry[0])]] = entry[2]"
   ]
  },
  {
   "cell_type": "code",
   "execution_count": 124,
   "id": "4d8b6143-f613-4d16-a8f5-022703b4b057",
   "metadata": {},
   "outputs": [
    {
     "name": "stdout",
     "output_type": "stream",
     "text": [
      "12711\n"
     ]
    },
    {
     "data": {
      "text/plain": [
       "matrix([[0.  , 1.  , 1.  , 1.  , 1.  , 1.  , 1.  , 1.  , 1.  , 1.  ],\n",
       "        [1.  , 0.  , 1.  , 1.  , 1.  , 1.  , 1.  , 1.  , 1.  , 1.  ],\n",
       "        [1.  , 1.  , 0.  , 1.  , 1.  , 1.  , 1.  , 1.  , 1.  , 1.  ],\n",
       "        [1.  , 1.  , 1.  , 0.  , 0.  , 1.  , 1.  , 1.  , 1.  , 1.  ],\n",
       "        [1.  , 1.  , 1.  , 0.  , 0.  , 1.  , 1.  , 1.  , 1.  , 1.  ],\n",
       "        [1.  , 1.  , 1.  , 1.  , 1.  , 0.  , 1.  , 1.  , 1.  , 0.08],\n",
       "        [1.  , 1.  , 1.  , 1.  , 1.  , 1.  , 0.  , 0.  , 0.  , 1.  ],\n",
       "        [1.  , 1.  , 1.  , 1.  , 1.  , 1.  , 0.  , 0.  , 0.  , 1.  ],\n",
       "        [1.  , 1.  , 1.  , 1.  , 1.  , 1.  , 0.  , 0.  , 0.  , 1.  ],\n",
       "        [1.  , 1.  , 1.  , 1.  , 1.  , 0.07, 1.  , 1.  , 1.  , 0.  ]])"
      ]
     },
     "execution_count": 124,
     "metadata": {},
     "output_type": "execute_result"
    }
   ],
   "source": [
    "print(len(dist_dic.keys()))\n",
    "\n",
    "1 - M[:10,:10].todense()\n"
   ]
  },
  {
   "cell_type": "code",
   "execution_count": 125,
   "id": "b8ba4ec7-4ef4-4e1c-a62b-f00f12e104dc",
   "metadata": {},
   "outputs": [
    {
     "data": {
      "image/png": "[encoded data removed]",
      "text/plain": [
       "<Figure size 842.4x595.44 with 2 Axes>"
      ]
     },
     "metadata": {},
     "output_type": "display_data"
    }
   ],
   "source": [
    "import numpy as np; np.random.seed(0)\n",
    "import seaborn as sns; sns.set_theme()\n",
    "\n",
    "fig_dims = (11.7, 8.27)\n",
    "fig, ax = plt.subplots(figsize=fig_dims)\n",
    "\n",
    "# ax = sns.heatmap(M.todense()[:10,:10])\n",
    "ax = sns.heatmap(1-M.todense())"
   ]
  },
  {
   "cell_type": "code",
   "execution_count": 126,
   "id": "6b370dea-07bf-479a-8f6d-66a2feabc369",
   "metadata": {},
   "outputs": [
    {
     "data": {
      "image/png": "[encoded data removed]",
      "text/plain": [
       "<Figure size 432x288 with 1 Axes>"
      ]
     },
     "metadata": {},
     "output_type": "display_data"
    }
   ],
   "source": [
    "from scipy.cluster import hierarchy\n",
    "\n",
    "mat = 1-M.todense()\n",
    "\n"
   ]
  },
  {
   "cell_type": "code",
   "execution_count": 129,
   "id": "3a8f6583-16af-41bf-82c0-debd907491b8",
   "metadata": {},
   "outputs": [
    {
     "ename": "ValueError",
     "evalue": "No point was within bandwidth=7.652146 of any seed. Try a different seeding strategy                              or increase the bandwidth.",
     "output_type": "error",
     "traceback": [
      "\u001b[0;31m---------------------------------------------------------------------------\u001b[0m",
      "\u001b[0;31mValueError\u001b[0m                                Traceback (most recent call last)",
      "\u001b[0;32m/var/folders/n8/6mnh8rkn16j5yndvgr3qygv8n0tkp1/T/ipykernel_65263/263600597.py\u001b[0m in \u001b[0;36m<module>\u001b[0;34m\u001b[0m\n\u001b[1;32m      7\u001b[0m \u001b[0;34m\u001b[0m\u001b[0m\n\u001b[1;32m      8\u001b[0m \u001b[0mms\u001b[0m \u001b[0;34m=\u001b[0m \u001b[0mMeanShift\u001b[0m\u001b[0;34m(\u001b[0m\u001b[0mbandwidth\u001b[0m\u001b[0;34m=\u001b[0m\u001b[0mbandwidth\u001b[0m\u001b[0;34m,\u001b[0m \u001b[0mbin_seeding\u001b[0m\u001b[0;34m=\u001b[0m\u001b[0;32mTrue\u001b[0m\u001b[0;34m)\u001b[0m\u001b[0;34m\u001b[0m\u001b[0;34m\u001b[0m\u001b[0m\n\u001b[0;32m----> 9\u001b[0;31m \u001b[0mms\u001b[0m\u001b[0;34m.\u001b[0m\u001b[0mfit\u001b[0m\u001b[0;34m(\u001b[0m\u001b[0mmat\u001b[0m\u001b[0;34m)\u001b[0m\u001b[0;34m\u001b[0m\u001b[0;34m\u001b[0m\u001b[0m\n\u001b[0m\u001b[1;32m     10\u001b[0m \u001b[0mlabels\u001b[0m \u001b[0;34m=\u001b[0m \u001b[0mms\u001b[0m\u001b[0;34m.\u001b[0m\u001b[0mlabels_\u001b[0m\u001b[0;34m\u001b[0m\u001b[0;34m\u001b[0m\u001b[0m\n",
      "\u001b[0;32m~/opt/miniconda3/envs/python/lib/python3.7/site-packages/sklearn/cluster/_mean_shift.py\u001b[0m in \u001b[0;36mfit\u001b[0;34m(self, X, y)\u001b[0m\n\u001b[1;32m    413\u001b[0m                              \u001b[0;31m\"\u001b[0m \u001b[0mTry\u001b[0m \u001b[0ma\u001b[0m \u001b[0mdifferent\u001b[0m \u001b[0mseeding\u001b[0m \u001b[0mstrategy\u001b[0m\u001b[0;31m \u001b[0m\u001b[0;31m\\\u001b[0m\u001b[0;34m\u001b[0m\u001b[0;34m\u001b[0m\u001b[0m\n\u001b[1;32m    414\u001b[0m                              \u001b[0;32mor\u001b[0m \u001b[0mincrease\u001b[0m \u001b[0mthe\u001b[0m \u001b[0mbandwidth\u001b[0m\u001b[0;34m.\u001b[0m\u001b[0;31m\"\u001b[0m\u001b[0;34m\u001b[0m\u001b[0;34m\u001b[0m\u001b[0m\n\u001b[0;32m--> 415\u001b[0;31m                              % bandwidth)\n\u001b[0m\u001b[1;32m    416\u001b[0m \u001b[0;34m\u001b[0m\u001b[0m\n\u001b[1;32m    417\u001b[0m         \u001b[0;31m# POST PROCESSING: remove near duplicate points\u001b[0m\u001b[0;34m\u001b[0m\u001b[0;34m\u001b[0m\u001b[0;34m\u001b[0m\u001b[0m\n",
      "\u001b[0;31mValueError\u001b[0m: No point was within bandwidth=7.652146 of any seed. Try a different seeding strategy                              or increase the bandwidth."
     ]
    }
   ],
   "source": [
    "import numpy as np\n",
    "from sklearn.cluster import MeanShift, estimate_bandwidth\n",
    "\n",
    "mat = 1-M.todense()\n",
    "\n",
    "bandwidth = estimate_bandwidth(mat, quantile=0.2, n_samples=500)\n",
    "\n",
    "ms = MeanShift(bandwidth=bandwidth, bin_seeding=True)\n",
    "ms.fit(mat)\n",
    "labels = ms.labels_\n"
   ]
  },
  {
   "cell_type": "code",
   "execution_count": 128,
   "id": "8a61359f-9b54-468f-aeff-c9a50e2fe4d7",
   "metadata": {},
   "outputs": [
    {
     "name": "stdout",
     "output_type": "stream",
     "text": [
      "Collecting sklearn\n",
      "  Using cached sklearn-0.0.tar.gz (1.1 kB)\n",
      "Collecting scikit-learn\n",
      "  Downloading scikit_learn-0.24.2-cp37-cp37m-macosx_10_13_x86_64.whl (7.2 MB)\n",
      "\u001b[K     |████████████████████████████████| 7.2 MB 4.4 MB/s eta 0:00:01\n",
      "\u001b[?25hCollecting joblib>=0.11\n",
      "  Using cached joblib-1.0.1-py3-none-any.whl (303 kB)\n",
      "Requirement already satisfied: numpy>=1.13.3 in /Users/wheelern/opt/miniconda3/envs/python/lib/python3.7/site-packages (from scikit-learn->sklearn) (1.20.3)\n",
      "Requirement already satisfied: scipy>=0.19.1 in /Users/wheelern/opt/miniconda3/envs/python/lib/python3.7/site-packages (from scikit-learn->sklearn) (1.6.2)\n",
      "Collecting threadpoolctl>=2.0.0\n",
      "  Downloading threadpoolctl-2.2.0-py3-none-any.whl (12 kB)\n",
      "Building wheels for collected packages: sklearn\n",
      "  Building wheel for sklearn (setup.py) ... \u001b[?25ldone\n",
      "\u001b[?25h  Created wheel for sklearn: filename=sklearn-0.0-py2.py3-none-any.whl size=1316 sha256=5fa507734b2c264c6e65df0e9e79247b2c7f6b096b525202dfee231cf7898c49\n",
      "  Stored in directory: /Users/wheelern/Library/Caches/pip/wheels/46/ef/c3/157e41f5ee1372d1be90b09f74f82b10e391eaacca8f22d33e\n",
      "Successfully built sklearn\n",
      "Installing collected packages: threadpoolctl, joblib, scikit-learn, sklearn\n",
      "Successfully installed joblib-1.0.1 scikit-learn-0.24.2 sklearn-0.0 threadpoolctl-2.2.0\n"
     ]
    }
   ],
   "source": [
    "!pip install sklearn"
   ]
  },
  {
   "cell_type": "code",
   "execution_count": 57,
   "id": "7edaf2ee-e4a1-4df0-849d-2b6f745caf29",
   "metadata": {},
   "outputs": [
    {
     "data": {
      "text/plain": [
       "'*155315_zonula occludens toxin [Vibrio cholerae]'"
      ]
     },
     "execution_count": 57,
     "metadata": {},
     "output_type": "execute_result"
    }
   ],
   "source": [
    "index_dic[key]\n",
    "key"
   ]
  },
  {
   "cell_type": "code",
   "execution_count": null,
   "id": "5bf3c6f7-b9eb-4699-b86d-9cf4b85c180e",
   "metadata": {},
   "outputs": [],
   "source": [
    "# understanding mmseq clustering \n",
    "import matplotlib.pyplot as plt\n",
    "\n",
    "clusts = pd.read_csv(\"/Users/wheelern/Documents/IGSC_seqs/biorisk_nt_clust.tsv\", sep=\"\\t\", header=None)\n",
    "freqs = clusts[0].value_counts()\n",
    "\n",
    "fig, ax = plt.subplots()\n",
    "freqs.hist(ax=ax, bins=100, bottom=0.1)\n",
    "ax.set_yscale('log')\n",
    "ax.set_xlabel(\"Number of members in cluster\")\n",
    "\n",
    "print(freqs)"
   ]
  },
  {
   "cell_type": "code",
   "execution_count": null,
   "id": "a5b535a9-93cb-4bb2-9546-35c619932ab4",
   "metadata": {},
   "outputs": [],
   "source": [
    "clusts = pd.read_csv(\"/Users/wheelern/Documents/IGSC_seqs/biorisk_nt_clust.tsv\", sep=\"\\t\", header=None)\n"
   ]
  }
 ],
 "metadata": {
  "kernelspec": {
   "display_name": "Python 3 (ipykernel)",
   "language": "python",
   "name": "python3"
  },
  "language_info": {
   "codemirror_mode": {
    "name": "ipython",
    "version": 3
   },
   "file_extension": ".py",
   "mimetype": "text/x-python",
   "name": "python",
   "nbconvert_exporter": "python",
   "pygments_lexer": "ipython3",
   "version": "3.7.10"
  }
 },
 "nbformat": 4,
 "nbformat_minor": 5
}
