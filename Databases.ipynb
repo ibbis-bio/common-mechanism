{
 "cells": [
  {
   "cell_type": "code",
   "execution_count": 2,
   "id": "4ecdf194-5f28-4c74-8ed6-50de13f155f2",
   "metadata": {},
   "outputs": [],
   "source": [
    "import pandas as pd\n",
    "import matplotlib.pyplot as plt\n",
    "import os\n"
   ]
  },
  {
   "cell_type": "code",
   "execution_count": null,
   "id": "c27d3aeb-9a0c-4887-ba44-3090fed947ed",
   "metadata": {},
   "outputs": [],
   "source": [
    "################ regulated pathogen lists ################"
   ]
  },
  {
   "cell_type": "code",
   "execution_count": 46,
   "id": "201f384b-8280-4222-9957-eefb8fc2ea24",
   "metadata": {},
   "outputs": [],
   "source": [
    "# read in pathogen lists from IGSC\n",
    "aust_rpd = pd.read_excel(\"/Users/wheelern/Documents/IGSC_seqs/20160919_TaxID.xlsx\", sheet_name=0)\n",
    "eu_rpd = pd.read_excel(\"/Users/wheelern/Documents/IGSC_seqs/20160919_TaxID.xlsx\", sheet_name=1)\n",
    "cdc_rpd = pd.read_excel(\"/Users/wheelern/Documents/IGSC_seqs/20160919_TaxID.xlsx\", sheet_name=2)\n",
    "usccl_rpd = pd.read_excel(\"/Users/wheelern/Documents/IGSC_seqs/20160919_TaxID.xlsx\", sheet_name=3)\n",
    "\n",
    "# drop unwanted rows\n",
    "def drop_unwanted(df):\n",
    "    df = df.drop(df[df.Group == 'Bacteria (Toxin)'].index)\n",
    "    df = df.drop(df[df.Group == 'Metazoa (Toxin)'].index)\n",
    "    return df\n",
    "\n",
    "aust_rpd = drop_unwanted(aust_rpd)\n",
    "eu_rpd = drop_unwanted(eu_rpd)\n",
    "cdc_rpd = drop_unwanted(cdc_rpd)\n",
    "usccl_rpd = drop_unwanted(usccl_rpd)\n",
    "\n",
    "# create lists of regulated taxon ids and common names\n",
    "reg_taxids = set(aust_rpd.TaxID.values.tolist() + eu_rpd.TaxID.values.tolist() + cdc_rpd.TaxID.values.tolist() + usccl_rpd.TaxID.values.tolist())\n",
    "pd.DataFrame(reg_taxids).to_csv('databases/biorisk/reg_taxids', index=False)\n",
    "reg_names = set(aust_rpd.Organism.values.tolist() + eu_rpd.Organism.values.tolist() + cdc_rpd.Organism.values.tolist() + usccl_rpd.Organism.values.tolist())\n",
    "pd.DataFrame(reg_names).to_csv('databases/biorisk/reg_names', index=False)\n"
   ]
  },
  {
   "cell_type": "code",
   "execution_count": 131,
   "id": "690a17de-e9e5-49bb-bd7b-716309b6e8b3",
   "metadata": {},
   "outputs": [],
   "source": [
    "# read in regulated organisms\n",
    "import gspread\n",
    "from oauth2client.service_account import ServiceAccountCredentials\n",
    "import taxoniq # this is a new package which looks good, but has some issues with missing taxon IDs\n",
    "\n",
    "# use creds to create a client to interact with the Google Drive API\n",
    "scope = ['https://spreadsheets.google.com/feeds', 'https://www.googleapis.com/auth/drive']\n",
    "creds = ServiceAccountCredentials.from_json_keyfile_name('../client-secret.json', scope)\n",
    "client = gspread.authorize(creds)\n",
    "\n",
    "reg_names_ours = []\n",
    "\n",
    "# read in bacteria\n",
    "sheet = client.open(\"Pathogen lists\").worksheet(\"Bacteria\")\n",
    "bact_list = sheet.col_values(1)\n",
    "australia = sheet.col_values(4)\n",
    "us_select = sheet.col_values(5)\n",
    "eu_export = sheet.col_values(7)\n",
    "russia = sheet.col_values(8)\n",
    "nih_level = sheet.col_values(6)\n",
    "\n",
    "# add taxon ids to regulated list\n",
    "for i in range(1,len(bact_list)):\n",
    "    if ('Y' in [australia[i], us_select[i], eu_export[i], russia[i]]):\n",
    "        reg_names_ours.append(bact_list[i])\n",
    "\n",
    "# read in viruses\n",
    "sheet = client.open(\"Pathogen lists\").worksheet(\"Viruses\")\n",
    "virus_list = sheet.col_values(1)\n",
    "australia = sheet.col_values(4)\n",
    "us_select = sheet.col_values(5)\n",
    "eu_export = sheet.col_values(7)\n",
    "russia = sheet.col_values(8)\n",
    "nih_level = sheet.col_values(6)\n",
    "\n",
    "# add taxon ids to regulated list\n",
    "for i in range(1,len(virus_list)):\n",
    "    if ('Y' in [australia[i], us_select[i], eu_export[i], russia[i]]):\n",
    "        reg_names_ours.append(virus_list[i])\n",
    "\n",
    "# reg_names_ours"
   ]
  },
  {
   "cell_type": "code",
   "execution_count": 134,
   "id": "33ec42c7-4d35-4a85-86e6-e4baeb14d3e9",
   "metadata": {},
   "outputs": [
    {
     "data": {
      "text/plain": [
       "<AxesSubplot:>"
      ]
     },
     "execution_count": 134,
     "metadata": {},
     "output_type": "execute_result"
    },
    {
     "data": {
      "image/png": "[encoded data removed]",
      "text/plain": [
       "<Figure size 576x576 with 1 Axes>"
      ]
     },
     "metadata": {},
     "output_type": "display_data"
    }
   ],
   "source": [
    "from venn import venn\n",
    "%matplotlib inline\n",
    "\n",
    "lists = {\n",
    "    \"Our list\": set(reg_names_ours),\n",
    "    \"IGSC list\": set(reg_names)\n",
    "}\n",
    "venn(lists)"
   ]
  },
  {
   "cell_type": "code",
   "execution_count": 132,
   "id": "072c7577-dc59-4756-a901-c3ed01e6b360",
   "metadata": {},
   "outputs": [
    {
     "name": "stdout",
     "output_type": "stream",
     "text": [
      "59\n",
      "219\n",
      "101\n",
      "219\n",
      "{'H5N8 subtype', 'Influenza A virus (A/Iowa/1/1918(H1N1))', 'Laguna Negra virus', 'Escherichia coli O121', 'Xanthomonas citri group', 'Yellow fever virus', 'Venezuelan equine encephalitis virus', 'H5N2 subtype', 'Dengue virus 2', 'Suid herpesvirus 1', 'Plenodomus tracheiphilus', 'Suid alphaherpesvirus 1', 'Xanthomonas oryzae', 'Escherichia coli O157:H16', 'VEEV complex', 'Escherichia coli O157:H39', 'Crimean-Congo hemorrhagic fever virus', 'Russian Spring-Summer encephalitis virus', 'Escherichia coli O121:H46', 'pseudomallei group', 'Escherichia coli O26:H11:K60', 'Colletotrichum kahawae', 'Saint Louis encephalitis virus', 'Xanthomonas alfalfae subsp. citrumelonis', 'Argentinian mammarenavirus', 'Ebola virus', 'H7N7 subtype', 'Vesicular stomatitis New Jersey virus', 'Bipolaris oryzae', 'Seoul orthohantavirus', 'H7N1 subtype', 'Escherichia coli O45:H2', 'Escherichia coli O111:B4', 'Influenza A virus (A/New York/2/1918(H1N1))', 'Rinderpest virus', 'St. Louis encephalitis virus', 'Nipah virus', 'Sclerophthora', 'Synchytrium endobioticum', 'Escherichia coli O111:H-', 'Dobrava-Belgrade orthohantavirus', 'Escherichia coli O157:H43', 'Chapare virus', 'Sabia mammarenavirus', 'Brazilian mammarenavirus', 'Influenza A virus (A/London/1/1918(H1N1))', 'Fusarium sporotrichioides', 'Dengue virus 3', 'Tilletia indica', 'Machupo virus', 'Sin Nombre virus', 'Mycoplasma mycoides subsp. mycoides SC', 'Escherichia coli O55:H7', 'Escherichia coli O111:H8', 'H5N7 subtype', 'Swine vesicular disease virus', 'Japanese encephalitis virus group', 'Escherichia coli O104:H12', 'Escherichia coli O157:NM', 'Junin virus', 'Legionella pneumophila', 'Sabia virus', 'Newcastle disease virus', 'Rickettsia rickettsii', 'H5N4 subtype', 'H5N3 subtype', 'Escherichia coli O103', 'Xanthomonas campestris pv. oryzae', 'Dengue virus group', 'Escherichia coli O174:H21', 'Influenza A virus (A/South Carolina/2/1918(H1N1))', 'Influenza A virus (A/Iowa/2/1918(H1N1))', 'H5N9 subtype', 'Escherichia coli O119:H6', 'Junin mammarenavirus', 'Ebolavirus', 'Escherichia coli O111:H11', 'Western equine encephalitis virus', 'Banana bunchy top virus', 'Escherichia coli O157:H7', 'Potato spindle tuber viroid', 'Influenza A virus (A/Virginia/3/1918(H1N1))', 'Escherichia coli O157:12', 'Middle East respiratory syndrome-related coronavirus', 'Influenza A virus (A/New York/3b/1918(H1N1))', 'Escherichia coli O103:HNM', 'Escherichia coli O45:H2 str. 03-EN-705', 'Lassa virus', 'Influenza A virus (A/New York/3a/1918(H1N1))', 'Tick-borne encephalitis virus', 'Sin Nombre orthohantavirus', 'Colletotrichum coffeanum', 'Escherichia coli O86a:H40', 'WEEV complex', 'Puccinia striiformis', 'Coniothyrium glycines', 'Escherichia coli O157:H45', 'Escherichia coli O45:NM str. G4', 'Microcyclus ulei', 'Hendra henipavirus', 'H5N5 subtype', 'Kyasanur forest disease virus', 'H7N5 subtype', 'Escherichia coli O45:NM', 'Escherichia coli O145', 'H7N3 subtype', 'Puumala orthohantavirus', 'Recombinant vesicular stomatitis Indiana virus rVSV-G/GFP', 'Escherichia coli O157:H9', 'Peste-des-petits-ruminants virus', 'Moniliophthora roreri', 'Thecaphora solani', 'Influenza A virus (A/Washington DC/1/1918(H1N1))', 'Mopeia Lassa virus reassortant 29', 'Coccidioides posadasii', 'Escherichia coli O104:H4', 'Influenza A virus (A/Virginia/1/1918(H1N1))', 'Escherichia coli O111:H21', 'Dengue virus 4', 'Puccinia graminis', 'Escherichia coli O157:H-', 'Xylella fastidiosa', 'Hantaan orthohantavirus', 'Bartonella', 'Magnaporthe oryzae', 'Vesicular stomatitis Alagoas virus', 'Escherichia coli O55:H6', 'Lujo virus', 'Crimean-Congo hemorrhagic fever orthonairovirus', 'Escherichia coli O103:H25', 'Escherichia coli O157', 'Escherichia coli O111:H19', 'Bacillus cereus biovar anthracis', 'Fusarium langsethiae', 'Flexal mammarenavirus', 'Escherichia coli O111', 'Escherichia coli O91:H21', 'Hantaan virus', 'H7N4 subtype', 'Escherichia coli O111:NM', 'Teschovirus', 'Escherichia coli O145:NM', 'Lymphocytic choriomeningitis virus', 'Dobrava-Belgrade virus', 'Rinderpest morbillivirus', 'Duvenhage lyssavirus', 'Escherichia coli O26:NM', 'Escherichia coli O145:H28', 'EEEV complex', 'Influenza A virus (A/South Carolina/1/1918(H1N1))', 'Teschovirus A', 'Escherichia coli O5:H-', 'Escherichia coli O157:H37', 'Peste des petits ruminants virus', 'Rabies lyssavirus', 'Escherichia coli O128:H2', 'Nipah henipavirus', 'Xanthomonas citri', 'Kyasanur Forest disease virus', 'Yersinia pseudotuberculosis', 'Yellow fever virus group', 'Escherichia coli O103:H2', 'Escherichia coli O26', 'Tick-borne encephalitis virus (STRAIN SOFJIN)', 'unclassified Henipavirus', 'Influenza A virus (A/Virginia/2/1918(H1N1))', 'Vesicular stomatitis virus', 'H7N8 subtype', 'Clostridium tetani', 'Japanese encephalitis virus', 'Escherichia coli O145:H-', 'tick-borne encephalitis virus group', 'Escherichia coli O26:H11', 'H7N9 subtype', 'Escherichia coli O157:H12', 'Peronosclerospora philippinensis', 'Coccidioides immitis', 'Escherichia coli O157:HNM', 'Escherichia coli O26:H-', 'Escherichia coli O111:H2', 'Dengue virus 1', 'Avian orthoavulavirus 1', 'Laguna Negra orthohantavirus', 'Hendra virus', 'H5N6 subtype', 'Andes orthohantavirus', 'Mycoplasma mycoides subsp. mycoides', 'Andes virus', 'Eastern equine encephalitis virus', 'Influenza A virus (A/AFIP/1/1918(H1N1))', 'H7N2 subtype', 'Influenza A virus (A/New York/4/1918(H1N1))', 'Seoul virus', '[Clostridium] sordellii', 'Escherichia coli O103:K+', 'Guanarito virus', 'Escherichia coli O121:H19', 'Variola minor virus', 'Escherichia coli O84:H-', 'H7N6 subtype'}\n"
     ]
    }
   ],
   "source": [
    "# check for overlap between our and IGSC's databases\n",
    "\n",
    "reg_names\n",
    "reg_names_ours\n",
    "\n",
    "intersection_set = set.intersection(set(reg_names), set(reg_names_ours))\n",
    "difference_set = set(reg_names).symmetric_difference(set(reg_names_ours))\n",
    "\n",
    "intersection_list = list(intersection_set)\n",
    "\n",
    "print(difference_set)"
   ]
  },
  {
   "cell_type": "code",
   "execution_count": 133,
   "id": "11f1ecbe-22b9-427e-808c-24bcfe5c4ae3",
   "metadata": {},
   "outputs": [
    {
     "name": "stdout",
     "output_type": "stream",
     "text": [
      "Yellow fever virus\n",
      "Venezuelan equine encephalitis virus\n",
      "Dengue virus 4\n",
      "Dengue virus 2\n",
      "Suid alphaherpesvirus 1\n",
      "Hantaan orthohantavirus\n",
      "Bartonella\n",
      "Crimean-Congo hemorrhagic fever orthonairovirus\n",
      "Bacillus cereus biovar anthracis\n",
      "Saint Louis encephalitis virus\n",
      "Argentinian mammarenavirus\n",
      "Flexal mammarenavirus\n",
      "Ebola virus\n",
      "Seoul orthohantavirus\n",
      "Rinderpest morbillivirus\n",
      "Duvenhage lyssavirus\n",
      "Dobrava-Belgrade orthohantavirus\n",
      "Teschovirus A\n",
      "Brazilian mammarenavirus\n",
      "Peste des petits ruminants virus\n",
      "Dengue virus 3\n",
      "Rabies lyssavirus\n",
      "Nipah henipavirus\n",
      "Xanthomonas citri\n",
      "Kyasanur Forest disease virus\n",
      "Rickettsia rickettsii\n",
      "Tick-borne encephalitis virus (STRAIN SOFJIN)\n",
      "Japanese encephalitis virus\n",
      "Western equine encephalitis virus\n",
      "Middle East respiratory syndrome-related coronavirus\n",
      "Dengue virus 1\n",
      "Avian orthoavulavirus 1\n",
      "Laguna Negra orthohantavirus\n",
      "Tick-borne encephalitis virus\n",
      "Sin Nombre orthohantavirus\n",
      "Andes orthohantavirus\n",
      "Mycoplasma mycoides subsp. mycoides\n",
      "Hendra henipavirus\n",
      "Eastern equine encephalitis virus\n",
      "Puumala orthohantavirus\n"
     ]
    }
   ],
   "source": [
    "for i in set(reg_names_ours):\n",
    "    if i not in reg_names:\n",
    "        print(i) "
   ]
  }
 ],
 "metadata": {
  "kernelspec": {
   "display_name": "Python 3 (ipykernel)",
   "language": "python",
   "name": "python3"
  },
  "language_info": {
   "codemirror_mode": {
    "name": "ipython",
    "version": 3
   },
   "file_extension": ".py",
   "mimetype": "text/x-python",
   "name": "python",
   "nbconvert_exporter": "python",
   "pygments_lexer": "ipython3",
   "version": "3.7.10"
  }
 },
 "nbformat": 4,
 "nbformat_minor": 5
}
