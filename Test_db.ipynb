{
 "cells": [
  {
   "cell_type": "code",
   "execution_count": null,
   "id": "7ac8284d-88e2-437c-847e-2934a498164b",
   "metadata": {},
   "outputs": [],
   "source": [
    "###################### test data #####################"
   ]
  },
  {
   "cell_type": "code",
   "execution_count": null,
   "id": "374bb8f3-8f23-4fc2-96cc-9c67534315dc",
   "metadata": {},
   "outputs": [],
   "source": [
    "# gryphon sequences\n",
    "\n",
    "gryphon = pd.read_excel(\"/Users/wheelern/Documents/IGSC_seqs/twist_gryphon_red_teaming_seqs.xlsx\", sheet_name=0)\n",
    "\n",
    "biorisk_file = \"/Users/wheelern/Documents/IGSC_seqs/biorisk_test_seqs.fasta\"\n",
    "benign_file = \"/Users/wheelern/Documents/IGSC_seqs/benign_test_seqs.fasta\"\n",
    "br = open(biorisk_file, \"w\")\n",
    "bn = open(benign_file, \"w\")\n",
    "\n",
    "for i in range(0, gryphon.shape[0]):\n",
    "    if bool(re.search('Benign', gryphon.Type[i])):\n",
    "        bn.write(\">\" + gryphon.Name[i] + \"_\" + gryphon.Description[i] + \"\\n\" + gryphon.Sequence[i] + \"\\n\")\n",
    "    if bool(re.search('Hit', gryphon.Type[i])):\n",
    "        br.write(\">\" + gryphon.Name[i] + \"_\" + gryphon.Description[i] + \"\\n\" + gryphon.Sequence[i] + \"\\n\")\n",
    "\n",
    "br.close()\n",
    "bn.close()\n"
   ]
  },
  {
   "cell_type": "code",
   "execution_count": null,
   "id": "3f00d7f1-f82d-4fad-913c-645b69d4816d",
   "metadata": {},
   "outputs": [],
   "source": [
    "# all_controlled_organisms - one sequence from each controlled organism\n",
    "\n",
    "aco = pd.read_excel(\"/Users/wheelern/Documents/IGSC_seqs/all-controlled-organisms.xlsx\", sheet_name=1)\n",
    "\n",
    "biorisk_file = \"/Users/wheelern/Documents/IGSC_seqs/biorisk_aco_seqs.fasta\"\n",
    "br = open(biorisk_file, \"w\")\n",
    "\n",
    "for i in range(0, aco.shape[0]):\n",
    "    if not bool(re.search('NA ', aco.Sequence[i])):\n",
    "        br.write(\">\" + aco.iloc[i,1] + \"_\" + str(aco.iloc[i,6]) + \"\\n\" + aco.Sequence[i] + \"\\n\")\n",
    "\n",
    "br.close()\n"
   ]
  },
  {
   "cell_type": "code",
   "execution_count": null,
   "id": "968807df-5b33-4285-a386-0881151315cf",
   "metadata": {},
   "outputs": [],
   "source": [
    "# process ML-generated list\n",
    "\n",
    "ml_seqs = pd.read_excel(\"/Users/wheelern/Dropbox/NTI/binf/test_sequences/media-2.xlsx\", sheet_name=0)\n",
    "\n",
    "output_file = \"/Users/wheelern/Dropbox/NTI/binf/test_sequences/ml_lysozyme_seqs.fasta\"\n",
    "f = open(output_file, \"w\")\n",
    "\n",
    "for i in range(0, ml_seqs.shape[0]):\n",
    "    f.write(\">\" + str(ml_seqs.loc[i,\"name\"]) + \"\\n\" + ml_seqs.loc[i,\"sequence\"] + \"\\n\")\n",
    "\n",
    "f.close()"
   ]
  }
 ],
 "metadata": {
  "kernelspec": {
   "display_name": "Python 3",
   "language": "python",
   "name": "python3"
  },
  "language_info": {
   "codemirror_mode": {
    "name": "ipython",
    "version": 3
   },
   "file_extension": ".py",
   "mimetype": "text/x-python",
   "name": "python",
   "nbconvert_exporter": "python",
   "pygments_lexer": "ipython3",
   "version": "3.9.5"
  }
 },
 "nbformat": 4,
 "nbformat_minor": 5
}
